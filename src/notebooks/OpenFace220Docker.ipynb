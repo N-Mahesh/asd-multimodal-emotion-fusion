{
 "cells": [
  {
   "cell_type": "code",
   "execution_count": null,
   "id": "6ce8922d",
   "metadata": {},
   "outputs": [],
   "source": [
    "# DOCKER DESKTOP NEEDS TO BE ON\n",
    "import subprocess\n",
    "\n",
    "%cd OpenFace\n",
    "!docker compose up -d openface && sync\n",
    "\n",
    "volume_path = \"../../openface\"\n",
    "\n",
    "found_files = subprocess.run(\n",
    "    [\"find\", base_path, \"-type\", \"f\", '-iname', '.jpg'],\n",
    "    capture_output=True,\n",
    "    text=True\n",
    ")\n",
    "\n",
    "found_files = found_files.stdout.strip().split('\\n')\n",
    "\n",
    "for img in found_files:\n",
    "    if not img:\n",
    "        continue\n",
    "\n",
    "    dir_path = img.rsplit('/', 1)[0]\n",
    "\n",
    "    subprocess.run(f'docker exec -it openface FaceLandmarkImg -f \"{img}\" --out_dir \"{dir_path}\"')\n",
    "\n",
    "!docker compose down"
   ]
  }
 ],
 "metadata": {
  "language_info": {
   "name": "python"
  }
 },
 "nbformat": 4,
 "nbformat_minor": 5
}
