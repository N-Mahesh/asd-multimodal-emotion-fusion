{
 "cells": [
  {
   "cell_type": "code",
   "execution_count": null,
   "id": "f3309f72",
   "metadata": {},
   "outputs": [],
   "source": [
    "ffmpeg -i temp/current_frames.avi -vf \"fps=25\" temp/frames/img_%05d.jpg"
   ]
  },
  {
   "cell_type": "code",
   "execution_count": null,
   "id": "c67d541c",
   "metadata": {},
   "outputs": [],
   "source": []
  }
 ],
 "metadata": {
  "language_info": {
   "name": "python"
  }
 },
 "nbformat": 4,
 "nbformat_minor": 5
}
