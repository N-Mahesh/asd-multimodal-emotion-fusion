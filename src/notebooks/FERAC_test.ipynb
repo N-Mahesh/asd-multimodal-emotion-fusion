{
 "cells": [
  {
   "cell_type": "code",
   "execution_count": null,
   "id": "6f1b0f7f",
   "metadata": {},
   "outputs": [],
   "source": [
    "import torch\n",
    "from torchvision import models\n",
    "import torchvision.transforms as transforms\n",
    "import os\n",
    "\n",
    "# Load model from local path\n",
    "model = torch.load('best_FER_2013.pth')\n",
    "\n",
    "FERAC_test_path = r\"..\\data\\FERAC\\test\""
   ]
  },
  {
   "cell_type": "code",
   "execution_count": null,
   "id": "c6feefe9",
   "metadata": {},
   "outputs": [],
   "source": [
    "device = torch.device(\"cuda\" if torch.cuda.is_available() else \"cpu\")\n",
    "print(f\"Using device: {device}\")\n",
    "model.to(device)"
   ]
  },
  {
   "cell_type": "code",
   "execution_count": null,
   "id": "b956986f",
   "metadata": {},
   "outputs": [],
   "source": [
    "# Getting data ready\n",
    "tranform = transforms.Compose([\n",
    "    transforms.Resize((48, 48)),\n",
    "    transforms.Grayscale(num_output_channels=3),\n",
    "    transforms.RandomHorizontalFlip(),\n",
    "    transforms.RandomRotation(20),\n",
    "    transforms.ColorJitter(brightness=0.2, contrast=0.2, saturation=0.2, hue=0.1),\n",
    "    transforms.ToTensor(),\n",
    "    transforms.Normalize(mean=[0.485, 0.456, 0.406],  # ImageNet stats\n",
    "                         std=[0.229, 0.224, 0.225])\n",
    "])"
   ]
  },
  {
   "cell_type": "code",
   "execution_count": null,
   "id": "80acbc9c",
   "metadata": {},
   "outputs": [],
   "source": [
    "# Importing dataset\n",
    "dataset = datasets.ImageFolder(root=FERAC_test_path, transform=tranform)\n",
    "\n",
    "train_size = int(0.8 * len(dataset))\n",
    "val_size = len(dataset) - train_size\n",
    "train_dataset, val_dataset = random_split(dataset, [train_size, val_size])\n",
    "\n",
    "train_loader = DataLoader(train_dataset, batch_size=32, shuffle=True)\n",
    "val_loader = DataLoader(val_dataset, batch_size=32, shuffle=False)\n",
    "\n",
    "print(\"Classification Options:\", dataset.class_to_idx)\n",
    "print(\"Number of training samples:\", len(train_dataset))\n",
    "print(\"Number of validation samples:\", len(val_dataset))"
   ]
  }
 ],
 "metadata": {
  "language_info": {
   "name": "python"
  }
 },
 "nbformat": 4,
 "nbformat_minor": 5
}
